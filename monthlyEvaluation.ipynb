{
 "cells": [
  {
   "cell_type": "code",
   "execution_count": 207,
   "metadata": {},
   "outputs": [],
   "source": [
    "import warnings\n",
    "warnings.simplefilter(action='ignore', category=FutureWarning)\n",
    "\n",
    "import pandas as pd\n",
    "import numpy as np\n",
    "import matplotlib.pyplot as plt\n",
    "import datetime\n",
    "from dateutil.relativedelta import relativedelta\n",
    "import calendar\n",
    "from utils import *\n",
    "import quantstats as qs\n",
    "import scipy\n",
    "from sklearn.linear_model import LinearRegression\n",
    "from tqdm import tqdm\n"
   ]
  },
  {
   "cell_type": "code",
   "execution_count": 83,
   "metadata": {},
   "outputs": [
    {
     "data": {
      "text/html": [
       "<div>\n",
       "<style scoped>\n",
       "    .dataframe tbody tr th:only-of-type {\n",
       "        vertical-align: middle;\n",
       "    }\n",
       "\n",
       "    .dataframe tbody tr th {\n",
       "        vertical-align: top;\n",
       "    }\n",
       "\n",
       "    .dataframe thead th {\n",
       "        text-align: right;\n",
       "    }\n",
       "</style>\n",
       "<table border=\"1\" class=\"dataframe\">\n",
       "  <thead>\n",
       "    <tr style=\"text-align: right;\">\n",
       "      <th></th>\n",
       "      <th>Price</th>\n",
       "    </tr>\n",
       "    <tr>\n",
       "      <th>Date</th>\n",
       "      <th></th>\n",
       "    </tr>\n",
       "  </thead>\n",
       "  <tbody>\n",
       "    <tr>\n",
       "      <th>2013-12-31</th>\n",
       "      <td>0.001223</td>\n",
       "    </tr>\n",
       "    <tr>\n",
       "      <th>2014-12-31</th>\n",
       "      <td>0.001342</td>\n",
       "    </tr>\n",
       "    <tr>\n",
       "      <th>2015-12-31</th>\n",
       "      <td>0.001238</td>\n",
       "    </tr>\n",
       "    <tr>\n",
       "      <th>2016-12-31</th>\n",
       "      <td>0.001096</td>\n",
       "    </tr>\n",
       "    <tr>\n",
       "      <th>2017-12-31</th>\n",
       "      <td>0.001589</td>\n",
       "    </tr>\n",
       "    <tr>\n",
       "      <th>2018-12-31</th>\n",
       "      <td>0.002251</td>\n",
       "    </tr>\n",
       "    <tr>\n",
       "      <th>2019-12-31</th>\n",
       "      <td>0.001566</td>\n",
       "    </tr>\n",
       "    <tr>\n",
       "      <th>2020-12-31</th>\n",
       "      <td>0.000379</td>\n",
       "    </tr>\n",
       "    <tr>\n",
       "      <th>2021-12-31</th>\n",
       "      <td>0.000738</td>\n",
       "    </tr>\n",
       "    <tr>\n",
       "      <th>2022-12-31</th>\n",
       "      <td>0.002515</td>\n",
       "    </tr>\n",
       "    <tr>\n",
       "      <th>2023-12-31</th>\n",
       "      <td>0.003328</td>\n",
       "    </tr>\n",
       "    <tr>\n",
       "      <th>2024-12-31</th>\n",
       "      <td>0.003320</td>\n",
       "    </tr>\n",
       "  </tbody>\n",
       "</table>\n",
       "</div>"
      ],
      "text/plain": [
       "               Price\n",
       "Date                \n",
       "2013-12-31  0.001223\n",
       "2014-12-31  0.001342\n",
       "2015-12-31  0.001238\n",
       "2016-12-31  0.001096\n",
       "2017-12-31  0.001589\n",
       "2018-12-31  0.002251\n",
       "2019-12-31  0.001566\n",
       "2020-12-31  0.000379\n",
       "2021-12-31  0.000738\n",
       "2022-12-31  0.002515\n",
       "2023-12-31  0.003328\n",
       "2024-12-31  0.003320"
      ]
     },
     "execution_count": 83,
     "metadata": {},
     "output_type": "execute_result"
    }
   ],
   "source": [
    "# Get the crypto fund data from Vision Track\n",
    "data = getDataVisionTrack(\"./Data/Vision track fund data/VisionTrack by Vision Hill Group.html\")\n",
    "\n",
    "# Getting the monthly risk free rates\n",
    "rf = loadRiskFreeRate(\"./Data/United States 5-Year Bond Yield Historical Data monthly long term.csv\").set_index(\"Date\")\n",
    "monthlyRF = rf.groupby(pd.Grouper(freq='Y')).apply(lambda x: np.power(1+x.mean(),1/12)-1)\n",
    "monthlyRF\n"
   ]
  },
  {
   "cell_type": "code",
   "execution_count": 209,
   "metadata": {},
   "outputs": [
    {
     "name": "stderr",
     "output_type": "stream",
     "text": [
      "100%|██████████| 294/294 [02:41<00:00,  1.82it/s]\n"
     ]
    }
   ],
   "source": [
    "# Objective function: Sharpe ratio\n",
    "# Get a list of all the months that we have trading data for\n",
    "windowSize = 2\n",
    "\n",
    "months = []\n",
    "dateEnd = datetime.date(2023, 12, 1)    \n",
    "current = datetime.date(2013, 7, 1)    \n",
    "while current <= dateEnd:\n",
    "    months.append(current)\n",
    "    current += relativedelta(months=1)\n",
    "    \n",
    "months = months[::-1]\n",
    "months = pd.to_datetime(months)\n",
    "\n",
    "dfObjectiveSharpe = pd.DataFrame(np.nan, columns=data[\"Fund Name\"], index = months)\n",
    "dfObjectiveSharpe.index = pd.to_datetime(dfObjectiveSharpe.index)\n",
    "\n",
    "for fund in tqdm(data.iterrows(), total=data.shape[0]):\n",
    "\n",
    "    def tempCalcSharpe(rt, rf):\n",
    "        rf = rf[rt.index.max()<=rf.index].iloc[0,0]\n",
    "        return qs.stats.sharpe(rt, rf = rf, annualize=False)\n",
    "\n",
    "    fundName = fund[1][0]\n",
    "    returns = fund[1][3:].str.replace(\"%\",\"\").astype(float).div(100)\n",
    "    returns.index = months\n",
    "    sharpeReturns = returns.dropna().rolling(windowSize, min_periods=windowSize).apply(lambda x: tempCalcSharpe(x, monthlyRF) )\n",
    "    \n",
    "    dfObjectiveSharpe.loc[\n",
    "        (sharpeReturns.index.min() < dfObjectiveSharpe.index) & (dfObjectiveSharpe.index < sharpeReturns.index.max()) ,\n",
    "        fundName] = sharpeReturns\n"
   ]
  },
  {
   "cell_type": "code",
   "execution_count": 282,
   "metadata": {},
   "outputs": [
    {
     "name": "stderr",
     "output_type": "stream",
     "text": [
      "100%|██████████| 294/294 [00:06<00:00, 48.00it/s]\n"
     ]
    }
   ],
   "source": [
    "# Objective function: max drawdown\n",
    "# Get a list of all the months that we have trading data for\n",
    "windowSize = 5\n",
    "\n",
    "months = []\n",
    "dateEnd = datetime.date(2023, 12, 1)    \n",
    "current = datetime.date(2013, 7, 1)    \n",
    "while current <= dateEnd:\n",
    "    months.append(current)\n",
    "    current += relativedelta(months=1)\n",
    "    \n",
    "months = months[::-1]\n",
    "months = pd.to_datetime(months)\n",
    "\n",
    "dfObjectiveMDD = pd.DataFrame(np.nan, columns=data[\"Fund Name\"], index = months)\n",
    "dfObjectiveMDD.index = pd.to_datetime(dfObjectiveMDD.index)\n",
    "\n",
    "for fund in tqdm(data.iterrows(), total=data.shape[0]):\n",
    "\n",
    "    def tempCalcMDD(rt):\n",
    "        rt = rt.sort_index(ascending=True)  \n",
    "        rt = (rt.dropna()+1).cumprod()\n",
    "        Roll_Max = rt.cummax()\n",
    "        Daily_Drawdown = rt/Roll_Max - 1.0\n",
    "        Max_Drawdown = Daily_Drawdown.cummin()\n",
    "\n",
    "        return Max_Drawdown[-1]\n",
    "\n",
    "    fundName = fund[1][0]\n",
    "    returns = fund[1][3:].str.replace(\"%\",\"\").astype(float).div(100)\n",
    "    returns.index = months\n",
    "    MDDReturns = returns.dropna().rolling(windowSize, min_periods=windowSize).apply(lambda x: tempCalcMDD(x) )\n",
    "    \n",
    "    dfObjectiveMDD.loc[\n",
    "        (MDDReturns.index.min() < dfObjectiveMDD.index) & (dfObjectiveMDD.index < MDDReturns.index.max()) ,\n",
    "        fundName] = MDDReturns"
   ]
  },
  {
   "cell_type": "code",
   "execution_count": 288,
   "metadata": {},
   "outputs": [
    {
     "name": "stderr",
     "output_type": "stream",
     "text": [
      "100%|██████████| 294/294 [00:04<00:00, 68.76it/s]\n"
     ]
    }
   ],
   "source": [
    "# Objective function: return\n",
    "# Get a list of all the months that we have trading data for\n",
    "windowSize = 5\n",
    "\n",
    "months = []\n",
    "dateEnd = datetime.date(2023, 12, 1)    \n",
    "current = datetime.date(2013, 7, 1)    \n",
    "while current <= dateEnd:\n",
    "    months.append(current)\n",
    "    current += relativedelta(months=1)\n",
    "    \n",
    "months = months[::-1]\n",
    "months = pd.to_datetime(months)\n",
    "\n",
    "dfObjectivecumReturn = pd.DataFrame(np.nan, columns=data[\"Fund Name\"], index = months)\n",
    "dfObjectivecumReturn.index = pd.to_datetime(dfObjectivecumReturn.index)\n",
    "\n",
    "for fund in tqdm(data.iterrows(), total=data.shape[0]):\n",
    "\n",
    "    def tempCalccumReturn(rt):\n",
    "        rt = rt.sort_index(ascending=True)  \n",
    "        rt = (rt.dropna()+1).cumprod()\n",
    "\n",
    "        return rt[-1]\n",
    "\n",
    "    fundName = fund[1][0]\n",
    "    returns = fund[1][3:].str.replace(\"%\",\"\").astype(float).div(100)\n",
    "    returns.index = months\n",
    "    cumReturnReturns = returns.dropna().rolling(windowSize, min_periods=windowSize).apply(lambda x: tempCalccumReturn(x) )\n",
    "    \n",
    "    dfObjectivecumReturn.loc[\n",
    "        (cumReturnReturns.index.min() < dfObjectivecumReturn.index) & (dfObjectivecumReturn.index < cumReturnReturns.index.max()) ,\n",
    "        fundName] = cumReturnReturns"
   ]
  },
  {
   "cell_type": "code",
   "execution_count": 290,
   "metadata": {},
   "outputs": [],
   "source": [
    "dfObjectiveSharpe.to_excel(\"objective-sharpe.xlsx\")\n",
    "dfObjectiveMDD.to_excel(\"objective-MDD.xlsx\")"
   ]
  }
 ],
 "metadata": {
  "kernelspec": {
   "display_name": ".venv",
   "language": "python",
   "name": "python3"
  },
  "language_info": {
   "codemirror_mode": {
    "name": "ipython",
    "version": 3
   },
   "file_extension": ".py",
   "mimetype": "text/x-python",
   "name": "python",
   "nbconvert_exporter": "python",
   "pygments_lexer": "ipython3",
   "version": "3.9.7"
  }
 },
 "nbformat": 4,
 "nbformat_minor": 2
}
