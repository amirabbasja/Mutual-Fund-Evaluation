{
 "cells": [
  {
   "cell_type": "code",
   "execution_count": 94,
   "metadata": {},
   "outputs": [],
   "source": [
    "import pandas as pd\n",
    "import numpy as np\n",
    "import matplotlib.pyplot as plt\n",
    "import datetime\n",
    "from dateutil.relativedelta import relativedelta\n",
    "import calendar\n",
    "from utils import *"
   ]
  },
  {
   "cell_type": "code",
   "execution_count": 91,
   "metadata": {},
   "outputs": [
    {
     "name": "stdout",
     "output_type": "stream",
     "text": [
      "The entire date range is from 2019-12-27 00:00:00 to 2023-10-31 00:00:00 (1404 days 00:00:00)\n"
     ]
    }
   ],
   "source": [
    "# Data and super variables\n",
    "# Import the data for fund 1\n",
    "f1_DailyAuM = pd.read_csv(\"./Data/Daily AuM - AuM (1).csv\")\n",
    "f1_DailyTrades = pd.read_csv(\"./Data/Daily AuM - Trades_10.csv\")\n",
    "\n",
    "# Get the union of both datasets (Date-wise)\n",
    "f1_DailyAuM.Date = pd.to_datetime(f1_DailyAuM.Date, dayfirst = True, format = \"mixed\")\n",
    "f1_DailyTrades.buy_date = pd.to_datetime(f1_DailyTrades.buy_date, dayfirst = True, format = \"mixed\")\n",
    "f1_DailyTrades.sell_date = pd.to_datetime(f1_DailyTrades.sell_date, dayfirst = True, format = \"mixed\")\n",
    "\n",
    "f1_DailyTrades_LastDate = f1_DailyTrades.iloc[-1].sell_date\n",
    "f1_DailyAuM_LastDate = f1_DailyAuM.iloc[-1].Date\n",
    "\n",
    "if f1_DailyTrades_LastDate < f1_DailyAuM_LastDate:\n",
    "    f1_DailyAuM = f1_DailyAuM[f1_DailyAuM.Date <= f1_DailyTrades_LastDate]\n",
    "else:\n",
    "    f1_DailyTrades = f1_DailyTrades[f1_DailyTrades.sell_date <= f1_DailyAuM_LastDate]\n",
    "\n",
    "# start and end of date of the entire dataset\n",
    "START_DATE, END_DATE = f1_DailyAuM.iloc[0].Date, f1_DailyAuM.iloc[-1].Date \n",
    "START_MONTH, END_MONTH = f1_DailyAuM.iloc[0].Date.month, f1_DailyAuM.iloc[-1].Date.month \n",
    "START_YEAR, END_YEAR = f1_DailyAuM.iloc[0].Date.year, f1_DailyAuM.iloc[-1].Date.year \n",
    "\n",
    "print(f\"The entire date range is from {START_DATE} to {END_DATE} ({(f1_DailyAuM.iloc[-1].Date - f1_DailyAuM.iloc[0].Date)})\")\n"
   ]
  },
  {
   "cell_type": "code",
   "execution_count": 92,
   "metadata": {},
   "outputs": [
    {
     "name": "stdout",
     "output_type": "stream",
     "text": [
      "6 months growth rate (%) = 4.3824640703169635 calculated from 2023-10-31 00:00:00 to 2023-05-05 00:00:00\n",
      "1 year growth rate (%) = 49.44325780125048 calculated from 2023-10-31 00:00:00 to 2022-11-06 00:00:00\n",
      "3 years growth rate (%) = 986.9440892651639 calculated from 2023-10-31 00:00:00 to 2020-11-16 00:00:00\n"
     ]
    }
   ],
   "source": [
    "# Growth rate of fund net worth\n",
    "# This metric is calculated on three intervals, six months, 1 year and 3 years\n",
    "range_6Mo = divideDateRange(START_DATE, END_DATE, datetime.timedelta(days=30*6))\n",
    "range_1Yr = divideDateRange(START_DATE, END_DATE, datetime.timedelta(days=30*12))\n",
    "range_3Yrs = divideDateRange(START_DATE, END_DATE, datetime.timedelta(days=30*12*3))\n",
    "\n",
    "tmpAuM_6Mo = f1_DailyAuM[(range_6Mo[1]<f1_DailyAuM.Date)&(f1_DailyAuM.Date<=range_6Mo[0])]\n",
    "growthRate_6Mo = netGrowthRate(tmpAuM_6Mo.iloc[-1].AuM, tmpAuM_6Mo.iloc[0].AuM, False)\n",
    "\n",
    "tmpAuM_1Yr = f1_DailyAuM[(range_1Yr[1]<f1_DailyAuM.Date)&(f1_DailyAuM.Date<=range_1Yr[0])]\n",
    "growthRate_1Yr = netGrowthRate(tmpAuM_1Yr.iloc[-1].AuM, tmpAuM_1Yr.iloc[0].AuM, False)\n",
    "\n",
    "tmpAuM_3Yrs = f1_DailyAuM[(range_3Yrs[1]<f1_DailyAuM.Date)&(f1_DailyAuM.Date<=range_3Yrs[0])]\n",
    "growthRate_3Yrs = netGrowthRate(tmpAuM_3Yrs.iloc[-1].AuM, tmpAuM_3Yrs.iloc[0].AuM, False)\n",
    "\n",
    "print(f\"6 months growth rate (%) = {growthRate_6Mo*100} calculated from {tmpAuM_6Mo.iloc[-1].Date} to {tmpAuM_6Mo.iloc[0].Date}\")\n",
    "print(f\"1 year growth rate (%) = {growthRate_1Yr*100} calculated from {tmpAuM_1Yr.iloc[-1].Date} to {tmpAuM_1Yr.iloc[0].Date}\")\n",
    "print(f\"3 years growth rate (%) = {growthRate_3Yrs*100} calculated from {tmpAuM_3Yrs.iloc[-1].Date} to {tmpAuM_3Yrs.iloc[0].Date}\")\n"
   ]
  },
  {
   "cell_type": "code",
   "execution_count": 341,
   "metadata": {},
   "outputs": [
    {
     "name": "stdout",
     "output_type": "stream",
     "text": [
      "6 months:        up capture rate: 9.752609614561386   |    down capture rate: -7.2632011214009795\n"
     ]
    }
   ],
   "source": [
    "# Up/Down capture return\n",
    "# Getting the monthly return of the Fund's AuM\n",
    "fundReturns = getMonthlyReturns(f1_DailyAuM)\n",
    "barclayReturns = barclayHedgeIndex(\"./Data/Barclay_Hedge_Fund_Indexhistorical_data.xls\")\n",
    "barclayReturns = barclayReturns[(fundReturns.iloc[0].Date <= barclayReturns.Date)&(barclayReturns.Date <= fundReturns.iloc[-1].Date)].reset_index(drop=True)\n",
    "\n",
    "df = pd.concat([fundReturns.Date, fundReturns.fundReturn, barclayReturns.barclayReturn], axis = 1)\n",
    "dfCumulativeReturn = calcCumReturnInRange(df, \"months\", 6)\n",
    "\n",
    "# Up capture\n",
    "upDf = dfCumulativeReturn[0 <= dfCumulativeReturn.barclayReturn]\n",
    "upCapture = calcCaptureRate(upDf[[\"fundReturn\", \"barclayReturn\"]])\n",
    "# Down capture\n",
    "dnDf = dfCumulativeReturn[dfCumulativeReturn.barclayReturn <= 0]\n",
    "dnCapture = calcCaptureRate(dnDf[[\"fundReturn\", \"barclayReturn\"]])\n",
    "\n",
    "print(f\"6 months:        up capture rate: {upCapture}   |    down capture rate: {dnCapture}\")"
   ]
  },
  {
   "cell_type": "code",
   "execution_count": 343,
   "metadata": {},
   "outputs": [
    {
     "data": {
      "text/html": [
       "<div>\n",
       "<style scoped>\n",
       "    .dataframe tbody tr th:only-of-type {\n",
       "        vertical-align: middle;\n",
       "    }\n",
       "\n",
       "    .dataframe tbody tr th {\n",
       "        vertical-align: top;\n",
       "    }\n",
       "\n",
       "    .dataframe thead th {\n",
       "        text-align: right;\n",
       "    }\n",
       "</style>\n",
       "<table border=\"1\" class=\"dataframe\">\n",
       "  <thead>\n",
       "    <tr style=\"text-align: right;\">\n",
       "      <th></th>\n",
       "      <th>intervalStart</th>\n",
       "      <th>intervalEnd</th>\n",
       "      <th>fundReturn</th>\n",
       "      <th>barclayReturn</th>\n",
       "    </tr>\n",
       "  </thead>\n",
       "  <tbody>\n",
       "    <tr>\n",
       "      <th>0</th>\n",
       "      <td>2023-05-01</td>\n",
       "      <td>2023-10-31</td>\n",
       "      <td>-0.167980</td>\n",
       "      <td>0.017244</td>\n",
       "    </tr>\n",
       "    <tr>\n",
       "      <th>1</th>\n",
       "      <td>2022-11-01</td>\n",
       "      <td>2023-04-30</td>\n",
       "      <td>0.649983</td>\n",
       "      <td>0.058794</td>\n",
       "    </tr>\n",
       "    <tr>\n",
       "      <th>2</th>\n",
       "      <td>2022-05-01</td>\n",
       "      <td>2022-10-31</td>\n",
       "      <td>0.451293</td>\n",
       "      <td>-0.086267</td>\n",
       "    </tr>\n",
       "    <tr>\n",
       "      <th>3</th>\n",
       "      <td>2021-11-01</td>\n",
       "      <td>2022-04-30</td>\n",
       "      <td>0.195608</td>\n",
       "      <td>-0.016365</td>\n",
       "    </tr>\n",
       "    <tr>\n",
       "      <th>4</th>\n",
       "      <td>2021-05-01</td>\n",
       "      <td>2021-10-31</td>\n",
       "      <td>0.373640</td>\n",
       "      <td>0.037809</td>\n",
       "    </tr>\n",
       "    <tr>\n",
       "      <th>5</th>\n",
       "      <td>2020-11-01</td>\n",
       "      <td>2021-04-30</td>\n",
       "      <td>1.343934</td>\n",
       "      <td>0.145525</td>\n",
       "    </tr>\n",
       "    <tr>\n",
       "      <th>6</th>\n",
       "      <td>2020-05-01</td>\n",
       "      <td>2020-10-31</td>\n",
       "      <td>0.279866</td>\n",
       "      <td>0.153922</td>\n",
       "    </tr>\n",
       "  </tbody>\n",
       "</table>\n",
       "</div>"
      ],
      "text/plain": [
       "  intervalStart intervalEnd  fundReturn  barclayReturn\n",
       "0    2023-05-01  2023-10-31   -0.167980       0.017244\n",
       "1    2022-11-01  2023-04-30    0.649983       0.058794\n",
       "2    2022-05-01  2022-10-31    0.451293      -0.086267\n",
       "3    2021-11-01  2022-04-30    0.195608      -0.016365\n",
       "4    2021-05-01  2021-10-31    0.373640       0.037809\n",
       "5    2020-11-01  2021-04-30    1.343934       0.145525\n",
       "6    2020-05-01  2020-10-31    0.279866       0.153922"
      ]
     },
     "execution_count": 343,
     "metadata": {},
     "output_type": "execute_result"
    }
   ],
   "source": [
    "dfCumulativeReturn"
   ]
  }
 ],
 "metadata": {
  "kernelspec": {
   "display_name": "Python 3",
   "language": "python",
   "name": "python3"
  },
  "language_info": {
   "codemirror_mode": {
    "name": "ipython",
    "version": 3
   },
   "file_extension": ".py",
   "mimetype": "text/x-python",
   "name": "python",
   "nbconvert_exporter": "python",
   "pygments_lexer": "ipython3",
   "version": "3.9.7"
  }
 },
 "nbformat": 4,
 "nbformat_minor": 2
}
