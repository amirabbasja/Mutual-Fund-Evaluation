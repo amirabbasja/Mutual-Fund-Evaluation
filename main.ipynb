{
 "cells": [
  {
   "cell_type": "code",
   "execution_count": 71,
   "metadata": {},
   "outputs": [],
   "source": [
    "import pandas as pd\n",
    "import numpy as np\n",
    "import matplotlib.pyplot as plt\n",
    "import datetime"
   ]
  },
  {
   "cell_type": "code",
   "execution_count": 166,
   "metadata": {},
   "outputs": [],
   "source": [
    "# Necessary methods\n",
    "def divideDateRange(rangeStart, rangeEnd, interval):\n",
    "    \"\"\"\n",
    "    Divides a date range to specific intervals. The process starts from the end date and\n",
    "    goes backwards to reach the start date.\n",
    "\n",
    "    Args:\n",
    "        rangeStart, rangeEnd: datetime.datetime: Start and end of the desired date range.\n",
    "        interval: datetime.timedelta: The desired interval to divide the date range to.\n",
    "    \n",
    "    Returns: \n",
    "        A list of dates.\n",
    "    \"\"\"\n",
    "    lstOutput = []\n",
    "    temp = rangeEnd\n",
    "    while rangeStart < temp:\n",
    "        lstOutput.append(temp)\n",
    "        temp -= interval\n",
    "    \n",
    "    return lstOutput\n",
    "\n",
    "def netGrowthRate(AuMLastDay, AuMFirstDay, annualized):\n",
    "    \"\"\"\n",
    "    Returns the net growth rate of the fund's AuM \n",
    "    The formula: (Last day value - First day value)/First day value = growth rate\n",
    "\n",
    "    Args:\n",
    "        AuMLastDay, AuMFirstDay: float: AuM of the fund at the beginning and end of the interval\n",
    "    \n",
    "    Returns: \n",
    "        float.\n",
    "    \"\"\"\n",
    "    if annualized:\n",
    "        return np.power((AuMLastDay-AuMFirstDay)/AuMFirstDay + 1, 1/3) - 1\n",
    "    else:\n",
    "        return (AuMLastDay-AuMFirstDay)/AuMFirstDay"
   ]
  },
  {
   "cell_type": "code",
   "execution_count": 178,
   "metadata": {},
   "outputs": [
    {
     "name": "stdout",
     "output_type": "stream",
     "text": [
      "The entire date range is from 2019-12-27 00:00:00 to 2023-10-31 00:00:00 (1404 days 00:00:00)\n"
     ]
    }
   ],
   "source": [
    "# Import the data for fund 1\n",
    "f1_DailyAuM = pd.read_csv(\"./Data/Daily AuM - AuM (1).csv\")\n",
    "f1_DailyTrades = pd.read_csv(\"./Data/Daily AuM - Trades_10.csv\")\n",
    "\n",
    "# Get the union of both datasets (Date-wise)\n",
    "f1_DailyAuM.Date = pd.to_datetime(f1_DailyAuM.Date, dayfirst = True, format = \"mixed\")\n",
    "f1_DailyTrades.buy_date = pd.to_datetime(f1_DailyTrades.buy_date, dayfirst = True, format = \"mixed\")\n",
    "f1_DailyTrades.sell_date = pd.to_datetime(f1_DailyTrades.sell_date, dayfirst = True, format = \"mixed\")\n",
    "\n",
    "f1_DailyTrades_LastDate = f1_DailyTrades.iloc[-1].sell_date\n",
    "f1_DailyAuM_LastDate = f1_DailyAuM.iloc[-1].Date\n",
    "\n",
    "if f1_DailyTrades_LastDate < f1_DailyAuM_LastDate:\n",
    "    f1_DailyAuM = f1_DailyAuM[f1_DailyAuM.Date <= f1_DailyTrades_LastDate]\n",
    "else:\n",
    "    f1_DailyTrades = f1_DailyTrades[f1_DailyTrades.sell_date <= f1_DailyAuM_LastDate]\n",
    "\n",
    "# start and end of date of the entire dataset\n",
    "START_DATE = f1_DailyAuM.iloc[0].Date\n",
    "END_DATE   = f1_DailyAuM.iloc[-1].Date \n",
    "\n",
    "print(f\"The entire date range is from {START_DATE} to {END_DATE} ({(f1_DailyAuM.iloc[-1].Date - f1_DailyAuM.iloc[0].Date)})\")\n"
   ]
  },
  {
   "cell_type": "code",
   "execution_count": 182,
   "metadata": {},
   "outputs": [
    {
     "name": "stdout",
     "output_type": "stream",
     "text": [
      "6 months growth rate (%) = 4.3824640703169635 calculated from 2023-10-31 00:00:00 to 2023-05-05 00:00:00\n",
      "1 year growth rate (%) = 49.44325780125048 calculated from 2023-10-31 00:00:00 to 2022-11-06 00:00:00\n",
      "3 years growth rate (%) = 986.9440892651639 calculated from 2023-10-31 00:00:00 to 2020-11-16 00:00:00\n"
     ]
    }
   ],
   "source": [
    "# Growth rate of fund net worth\n",
    "# This metric is calculated on three intervals, six months, 1 year and 3 years\n",
    "range_6Mo = divideDateRange(START_DATE, END_DATE, datetime.timedelta(days=30*6))\n",
    "range_1Yr = divideDateRange(START_DATE, END_DATE, datetime.timedelta(days=30*12))\n",
    "range_3Yrs = divideDateRange(START_DATE, END_DATE, datetime.timedelta(days=30*12*3))\n",
    "\n",
    "tmpAuM_6Mo = f1_DailyAuM[(range_6Mo[1]<f1_DailyAuM.Date)&(f1_DailyAuM.Date<=range_6Mo[0])]\n",
    "growthRate_6Mo = netGrowthRate(tmpAuM_6Mo.iloc[-1].AuM, tmpAuM_6Mo.iloc[0].AuM, False)\n",
    "\n",
    "tmpAuM_1Yr = f1_DailyAuM[(range_1Yr[1]<f1_DailyAuM.Date)&(f1_DailyAuM.Date<=range_1Yr[0])]\n",
    "growthRate_1Yr = netGrowthRate(tmpAuM_1Yr.iloc[-1].AuM, tmpAuM_1Yr.iloc[0].AuM, False)\n",
    "\n",
    "tmpAuM_3Yrs = f1_DailyAuM[(range_3Yrs[1]<f1_DailyAuM.Date)&(f1_DailyAuM.Date<=range_3Yrs[0])]\n",
    "growthRate_3Yrs = netGrowthRate(tmpAuM_3Yrs.iloc[-1].AuM, tmpAuM_3Yrs.iloc[0].AuM, False)\n",
    "\n",
    "print(f\"6 months growth rate (%) = {growthRate_6Mo*100} calculated from {tmpAuM_6Mo.iloc[-1].Date} to {tmpAuM_6Mo.iloc[0].Date}\")\n",
    "print(f\"1 year growth rate (%) = {growthRate_1Yr*100} calculated from {tmpAuM_1Yr.iloc[-1].Date} to {tmpAuM_1Yr.iloc[0].Date}\")\n",
    "print(f\"3 years growth rate (%) = {growthRate_3Yrs*100} calculated from {tmpAuM_3Yrs.iloc[-1].Date} to {tmpAuM_3Yrs.iloc[0].Date}\")\n"
   ]
  },
  {
   "cell_type": "code",
   "execution_count": 181,
   "metadata": {},
   "outputs": [],
   "source": [
    "# tmpAuM_6Mo = f1_DailyAuM[(range_6Mo[1]<f1_DailyAuM.Date)&(f1_DailyAuM.Date<=range_6Mo[0])]\n",
    "# growthRate_6Mo = netGrowthRate(tmpAuM_6Mo.iloc[-1].AuM, tmpAuM_6Mo.iloc[0].AuM, True)\n",
    "\n",
    "# tmpAuM_1Yr = f1_DailyAuM[(range_1Yr[1]<f1_DailyAuM.Date)&(f1_DailyAuM.Date<=range_1Yr[0])]\n",
    "# growthRate_1Yr = netGrowthRate(tmpAuM_1Yr.iloc[-1].AuM, tmpAuM_1Yr.iloc[0].AuM, True)\n",
    "\n",
    "# tmpAuM_3Yrs = f1_DailyAuM[(range_3Yrs[1]<f1_DailyAuM.Date)&(f1_DailyAuM.Date<=range_3Yrs[0])]\n",
    "# growthRate_3Yrs = netGrowthRate(tmpAuM_3Yrs.iloc[-1].AuM, tmpAuM_3Yrs.iloc[0].AuM, True)\n",
    "\n",
    "# print(f\"Annualized 6 months growth rate (%) = {(growthRate_6Mo**2*100)} calculated from {tmpAuM_6Mo.iloc[-1].Date} to {tmpAuM_6Mo.iloc[0].Date}\")\n",
    "# print(f\"Annualized 1 year growth rate (%) = {growthRate_1Yr*100} calculated from {tmpAuM_1Yr.iloc[-1].Date} to {tmpAuM_1Yr.iloc[0].Date}\")\n",
    "# print(f\"Annualized 3 years growth rate (%) = {growthRate_3Yrs*100} calculated from {tmpAuM_3Yrs.iloc[-1].Date} to {tmpAuM_3Yrs.iloc[0].Date}\")"
   ]
  }
 ],
 "metadata": {
  "kernelspec": {
   "display_name": "Python 3",
   "language": "python",
   "name": "python3"
  },
  "language_info": {
   "codemirror_mode": {
    "name": "ipython",
    "version": 3
   },
   "file_extension": ".py",
   "mimetype": "text/x-python",
   "name": "python",
   "nbconvert_exporter": "python",
   "pygments_lexer": "ipython3",
   "version": "3.9.7"
  }
 },
 "nbformat": 4,
 "nbformat_minor": 2
}
